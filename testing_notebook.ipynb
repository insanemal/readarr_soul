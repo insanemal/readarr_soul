{
 "cells": [
  {
   "cell_type": "code",
   "execution_count": 6,
   "metadata": {},
   "outputs": [
    {
     "data": {
      "text/plain": [
       "{'page': 1,\n",
       " 'pageSize': 10,\n",
       " 'sortKey': 'date',\n",
       " 'sortDirection': 'descending',\n",
       " 'totalRecords': 0,\n",
       " 'records': []}"
      ]
     },
     "execution_count": 6,
     "metadata": {},
     "output_type": "execute_result"
    }
   ],
   "source": [
    "from pyarr import SonarrAPI\n",
    "from tests import SONARR_API_KEY, SONARR_TVDB\n",
    "\n",
    "\n",
    "sonarr_client = SonarrAPI(host_url=\"http://localhost:8989\", api_key=SONARR_API_KEY)\n",
    "\n",
    "sonarr_client.get_history()\n"
   ]
  },
  {
   "cell_type": "code",
   "execution_count": 19,
   "metadata": {},
   "outputs": [
    {
     "data": {
      "text/plain": [
       "{'name': 'RescanMovie',\n",
       " 'commandName': 'Rescan Movie',\n",
       " 'body': {'movieId': 2,\n",
       "  'sendUpdatesToClient': True,\n",
       "  'updateScheduledTask': True,\n",
       "  'isLongRunning': False,\n",
       "  'requiresDiskAccess': False,\n",
       "  'isExclusive': False,\n",
       "  'isTypeExclusive': False,\n",
       "  'name': 'RescanMovie',\n",
       "  'trigger': 'manual',\n",
       "  'suppressMessages': False},\n",
       " 'priority': 'normal',\n",
       " 'status': 'completed',\n",
       " 'result': 'successful',\n",
       " 'queued': '2024-06-04T21:04:38Z',\n",
       " 'started': '2024-06-04T21:04:38Z',\n",
       " 'ended': '2024-06-04T21:04:38Z',\n",
       " 'duration': '00:00:00.0570204',\n",
       " 'trigger': 'manual',\n",
       " 'stateChangeTime': '2024-06-04T21:04:38Z',\n",
       " 'sendUpdatesToClient': True,\n",
       " 'updateScheduledTask': True,\n",
       " 'id': 35}"
      ]
     },
     "execution_count": 19,
     "metadata": {},
     "output_type": "execute_result"
    }
   ],
   "source": [
    "from pyarr import RadarrAPI\n",
    "from tests import RADARR_API_KEY, RADARR_IMDB\n",
    "import time\n",
    "\n",
    "radarr_client = RadarrAPI(host_url=\"http://localhost:7878\", api_key=RADARR_API_KEY)\n",
    "quality_profiles = radarr_client.get_quality_profile()\n",
    "movie_imdb = radarr_client.lookup_movie(term=f\"imdb:{RADARR_IMDB}\")\n",
    "\n",
    "data = radarr_client.add_movie(\n",
    "        movie=movie_imdb[0],\n",
    "        root_dir=\"/defaults/\",\n",
    "        quality_profile_id=quality_profiles[0][\"id\"],\n",
    "        monitored=False,\n",
    "        search_for_movie=False,\n",
    "        monitor=\"movieOnly\",\n",
    "        minimum_availability=\"announced\",\n",
    "    )\n",
    "\n",
    "data = radarr_client.post_command(\n",
    "        name=\"RescanMovie\", movieId=radarr_client.get_movie()[0][\"id\"]\n",
    "    )\n",
    "time.sleep(5)\n",
    "radarr_client.get_command(id_=data[\"id\"])"
   ]
  },
  {
   "cell_type": "code",
   "execution_count": 15,
   "metadata": {},
   "outputs": [
    {
     "data": {
      "text/plain": [
       "[{'title': 'The Life of the Bee',\n",
       "  'authorTitle': 'maeterlinck, maurice The Life of the Bee',\n",
       "  'seriesTitle': '',\n",
       "  'disambiguation': '',\n",
       "  'authorId': 3,\n",
       "  'foreignBookId': '1207892',\n",
       "  'foreignEditionId': '489521',\n",
       "  'titleSlug': '1207892',\n",
       "  'monitored': False,\n",
       "  'anyEditionOk': False,\n",
       "  'ratings': {'votes': 393, 'value': 3.9, 'popularity': 1532.7},\n",
       "  'releaseDate': '1901-01-01T00:00:00Z',\n",
       "  'pageCount': 192,\n",
       "  'genres': ['non-fiction',\n",
       "   'science',\n",
       "   'nature',\n",
       "   'philosophy',\n",
       "   'nobel-prize',\n",
       "   'classics',\n",
       "   'belgium',\n",
       "   'animals',\n",
       "   'belgian',\n",
       "   'biology'],\n",
       "  'images': [{'url': '/MediaCover/Books/14/cover.jpg',\n",
       "    'coverType': 'cover',\n",
       "    'extension': '.jpg'}],\n",
       "  'links': [{'url': 'https://www.goodreads.com/work/editions/1207892',\n",
       "    'name': 'Goodreads Editions'},\n",
       "   {'url': 'https://www.goodreads.com/book/show/489521.The_Life_of_the_Bee',\n",
       "    'name': 'Goodreads Book'}],\n",
       "  'statistics': {'bookFileCount': 0,\n",
       "   'bookCount': 0,\n",
       "   'totalBookCount': 1,\n",
       "   'sizeOnDisk': 0,\n",
       "   'percentOfBooks': 0},\n",
       "  'added': '2024-06-04T20:54:54Z',\n",
       "  'grabbed': False,\n",
       "  'id': 14}]"
      ]
     },
     "execution_count": 15,
     "metadata": {},
     "output_type": "execute_result"
    }
   ],
   "source": [
    "from pyarr import ReadarrAPI\n",
    "from tests import READARR_API_KEY, READARR_GOODREADS_ID\n",
    "\n",
    "\n",
    "readarr_client = ReadarrAPI(host_url=\"http://localhost:8787\", api_key=READARR_API_KEY)\n",
    "qual_profile = readarr_client.get_quality_profile()\n",
    "meta_profile = readarr_client.get_metadata_profile()\n",
    "\n",
    "items = readarr_client.lookup(f\"edition:{READARR_GOODREADS_ID}\")\n",
    "for item in items:\n",
    "    if \"book\" in item:\n",
    "        book = item[\"book\"]\n",
    "        data = readarr_client.add_book(\n",
    "            book=book,\n",
    "            root_dir=\"/defaults/\",\n",
    "            quality_profile_id=qual_profile[0][\"id\"],\n",
    "            metadata_profile_id=meta_profile[0][\"id\"],\n",
    "        )\n",
    "        break\n",
    "books = readarr_client.get_book()\n",
    "book_ids = [d.get(\"id\") for d in books]\n",
    "\n",
    "readarr_client.upd_book_monitor(book_ids=book_ids, monitored=False)\n"
   ]
  },
  {
   "cell_type": "code",
   "execution_count": 17,
   "metadata": {},
   "outputs": [
    {
     "data": {
      "text/plain": [
       "{'name': 'DownloadedAlbumsScan',\n",
       " 'commandName': 'Downloaded Albums Scan',\n",
       " 'message': 'Failed to import',\n",
       " 'body': {'path': '/defaults',\n",
       "  'importMode': 'auto',\n",
       "  'requiresDiskAccess': True,\n",
       "  'isLongRunning': True,\n",
       "  'sendUpdatesToClient': True,\n",
       "  'updateScheduledTask': True,\n",
       "  'isExclusive': False,\n",
       "  'isTypeExclusive': False,\n",
       "  'name': 'DownloadedAlbumsScan',\n",
       "  'trigger': 'manual',\n",
       "  'suppressMessages': True},\n",
       " 'priority': 'normal',\n",
       " 'status': 'completed',\n",
       " 'result': 'unsuccessful',\n",
       " 'queued': '2024-06-04T21:01:30Z',\n",
       " 'started': '2024-06-04T21:01:30Z',\n",
       " 'ended': '2024-06-04T21:01:30Z',\n",
       " 'duration': '00:00:00.0100103',\n",
       " 'trigger': 'manual',\n",
       " 'stateChangeTime': '2024-06-04T21:01:30Z',\n",
       " 'sendUpdatesToClient': True,\n",
       " 'updateScheduledTask': True,\n",
       " 'id': 38}"
      ]
     },
     "execution_count": 17,
     "metadata": {},
     "output_type": "execute_result"
    }
   ],
   "source": [
    "from pyarr import LidarrAPI\n",
    "from tests import LIDARR_API_KEY, LIDARR_MUSICBRAINZ_ALBUM_ID\n",
    "import time\n",
    "\n",
    "lidarr_client = LidarrAPI(host_url=\"http://localhost:8686\", api_key=\"f0b398ba17c04645bea28ca934d003e0\")\n",
    "\n",
    "qual_profile = lidarr_client.get_quality_profile()\n",
    "meta_profile = lidarr_client.get_metadata_profile()\n",
    "data = lidarr_client.add_root_folder(\n",
    "        name=\"test\",\n",
    "        path=\"/defaults/\",\n",
    "        default_quality_profile_id=qual_profile[0][\"id\"],\n",
    "        default_metadata_profile_id=meta_profile[0][\"id\"],\n",
    "    )\n",
    "data = lidarr_client.post_command(\n",
    "        name=\"DownloadedAlbumsScan\", path=lidarr_client.get_root_folder()[0][\"path\"]\n",
    "    )\n",
    "time.sleep(5)\n",
    "lidarr_client.get_command(id_=data[\"id\"])"
   ]
  }
 ],
 "metadata": {
  "kernelspec": {
   "display_name": "pyarr-lvwSnSoa-py3.12",
   "language": "python",
   "name": "python3"
  },
  "language_info": {
   "codemirror_mode": {
    "name": "ipython",
    "version": 3
   },
   "file_extension": ".py",
   "mimetype": "text/x-python",
   "name": "python",
   "nbconvert_exporter": "python",
   "pygments_lexer": "ipython3",
   "version": "3.12.3"
  }
 },
 "nbformat": 4,
 "nbformat_minor": 2
}
